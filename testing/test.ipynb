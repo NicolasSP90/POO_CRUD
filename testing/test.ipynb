{
 "cells": [
  {
   "cell_type": "code",
   "execution_count": 4,
   "metadata": {},
   "outputs": [],
   "source": [
    "# Bibliotecas\n",
    "import os\n",
    "import json\n",
    "\n",
    "# Objetos\n",
    "from interface.interface import Interface\n",
    "from objects.instituicao import Instituicao\n",
    "from objects.consulta import Consulta\n",
    "from objects.medico import Medico\n",
    "from objects.paciente import Paciente\n",
    "\n",
    "# Variáveis\n",
    "from env import path_current, path_data\n",
    "\n",
    "# Funções\n",
    "from manager.manager import cadastrar, carregar, carregar_entradas, editar, deletar, inicializar_db"
   ]
  }
 ],
 "metadata": {
  "kernelspec": {
   "display_name": ".venv",
   "language": "python",
   "name": "python3"
  },
  "language_info": {
   "codemirror_mode": {
    "name": "ipython",
    "version": 3
   },
   "file_extension": ".py",
   "mimetype": "text/x-python",
   "name": "python",
   "nbconvert_exporter": "python",
   "pygments_lexer": "ipython3",
   "version": "3.12.5"
  }
 },
 "nbformat": 4,
 "nbformat_minor": 2
}
